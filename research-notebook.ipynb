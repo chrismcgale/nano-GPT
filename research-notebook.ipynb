{
 "cells": [
  {
   "cell_type": "code",
   "execution_count": 1,
   "metadata": {},
   "outputs": [
    {
     "name": "stderr",
     "output_type": "stream",
     "text": [
      "  % Total    % Received % Xferd  Average Speed   Time    Time     Time  Current\n",
      "                                 Dload  Upload   Total   Spent    Left  Speed\n",
      "\n",
      "  0     0    0     0    0     0      0      0 --:--:-- --:--:-- --:--:--     0\n",
      "100 1089k  100 1089k    0     0  12.3M      0 --:--:-- --:--:-- --:--:-- 12.8M\n"
     ]
    }
   ],
   "source": [
    "!curl -0 https://raw.githubusercontent.com/karpathy/char-rnn/master/data/tinyshakespeare/input.txt > input.txt"
   ]
  },
  {
   "cell_type": "code",
   "execution_count": 2,
   "metadata": {},
   "outputs": [],
   "source": [
    "with open('input.txt', 'r', encoding='utf-8') as f:\n",
    "    text = f.read()"
   ]
  },
  {
   "cell_type": "code",
   "execution_count": 3,
   "metadata": {},
   "outputs": [
    {
     "name": "stdout",
     "output_type": "stream",
     "text": [
      "length of dataset in chars 1115394\n"
     ]
    }
   ],
   "source": [
    "print(\"length of dataset in chars\", len(text))"
   ]
  },
  {
   "cell_type": "code",
   "execution_count": 4,
   "metadata": {},
   "outputs": [
    {
     "name": "stdout",
     "output_type": "stream",
     "text": [
      "\n",
      " !$&',-.3:;?ABCDEFGHIJKLMNOPQRSTUVWXYZabcdefghijklmnopqrstuvwxyz\n",
      "65\n"
     ]
    }
   ],
   "source": [
    "alphabet = sorted(list(set(text)))\n",
    "vocab_size = len(alphabet)\n",
    "print(''.join(alphabet))\n",
    "print(vocab_size)"
   ]
  },
  {
   "cell_type": "code",
   "execution_count": 5,
   "metadata": {},
   "outputs": [
    {
     "name": "stdout",
     "output_type": "stream",
     "text": [
      "[20, 43, 50, 50, 53, 1, 35, 53, 56, 50, 42]\n",
      "Hello World\n"
     ]
    }
   ],
   "source": [
    "stoi = { ch:i for i, ch in enumerate(alphabet) }\n",
    "itos = { i:ch for i, ch in enumerate(alphabet) }\n",
    "encode = lambda s: [stoi[c] for c in s] # encodes string as a list of integers\n",
    "decode = lambda l: ''.join([itos[i] for i in l]) # tae a list of integers, returns a string\n",
    "\n",
    "print(encode(\"Hello World\"))\n",
    "print(decode(encode(\"Hello World\")))"
   ]
  },
  {
   "cell_type": "code",
   "execution_count": 8,
   "metadata": {},
   "outputs": [
    {
     "name": "stdout",
     "output_type": "stream",
     "text": [
      "Collecting torch\n",
      "  Downloading torch-2.2.2-cp310-cp310-win_amd64.whl (198.6 MB)\n",
      "     ---------------------------------------- 0.0/198.6 MB ? eta -:--:--\n",
      "     ---------------------------------------- 0.2/198.6 MB 7.6 MB/s eta 0:00:27\n",
      "     --------------------------------------- 1.5/198.6 MB 18.9 MB/s eta 0:00:11\n",
      "      -------------------------------------- 3.3/198.6 MB 26.5 MB/s eta 0:00:08\n",
      "     - ------------------------------------- 5.3/198.6 MB 30.7 MB/s eta 0:00:07\n",
      "     - ------------------------------------- 7.2/198.6 MB 33.1 MB/s eta 0:00:06\n",
      "     - ------------------------------------- 9.0/198.6 MB 34.0 MB/s eta 0:00:06\n",
      "     -- ----------------------------------- 10.7/198.6 MB 38.6 MB/s eta 0:00:05\n",
      "     -- ----------------------------------- 12.8/198.6 MB 40.9 MB/s eta 0:00:05\n",
      "     -- ----------------------------------- 13.7/198.6 MB 43.5 MB/s eta 0:00:05\n",
      "     --- ---------------------------------- 16.6/198.6 MB 40.9 MB/s eta 0:00:05\n",
      "     --- ---------------------------------- 18.5/198.6 MB 40.9 MB/s eta 0:00:05\n",
      "     --- ---------------------------------- 20.5/198.6 MB 40.9 MB/s eta 0:00:05\n",
      "     ---- --------------------------------- 22.4/198.6 MB 40.9 MB/s eta 0:00:05\n",
      "     ---- --------------------------------- 24.3/198.6 MB 46.9 MB/s eta 0:00:04\n",
      "     ---- --------------------------------- 26.1/198.6 MB 43.7 MB/s eta 0:00:04\n",
      "     ----- -------------------------------- 28.0/198.6 MB 40.9 MB/s eta 0:00:05\n",
      "     ----- -------------------------------- 29.9/198.6 MB 40.9 MB/s eta 0:00:05\n",
      "     ------ ------------------------------- 31.8/198.6 MB 40.9 MB/s eta 0:00:05\n",
      "     ------ ------------------------------- 33.6/198.6 MB 40.9 MB/s eta 0:00:05\n",
      "     ------ ------------------------------- 35.5/198.6 MB 40.9 MB/s eta 0:00:04\n",
      "     ------- ------------------------------ 37.4/198.6 MB 40.9 MB/s eta 0:00:04\n",
      "     ------- ------------------------------ 39.3/198.6 MB 40.9 MB/s eta 0:00:04\n",
      "     ------- ------------------------------ 41.1/198.6 MB 40.9 MB/s eta 0:00:04\n",
      "     -------- ----------------------------- 43.0/198.6 MB 40.9 MB/s eta 0:00:04\n",
      "     -------- ----------------------------- 44.9/198.6 MB 40.9 MB/s eta 0:00:04\n",
      "     -------- ----------------------------- 46.8/198.6 MB 40.9 MB/s eta 0:00:04\n",
      "     --------- ---------------------------- 48.7/198.6 MB 40.9 MB/s eta 0:00:04\n",
      "     --------- ---------------------------- 50.5/198.6 MB 40.9 MB/s eta 0:00:04\n",
      "     ---------- --------------------------- 52.3/198.6 MB 40.9 MB/s eta 0:00:04\n",
      "     ---------- --------------------------- 54.4/198.6 MB 40.9 MB/s eta 0:00:04\n",
      "     ---------- --------------------------- 56.3/198.6 MB 40.9 MB/s eta 0:00:04\n",
      "     ----------- -------------------------- 58.2/198.6 MB 40.9 MB/s eta 0:00:04\n",
      "     ----------- -------------------------- 60.1/198.6 MB 40.9 MB/s eta 0:00:04\n",
      "     ----------- -------------------------- 62.0/198.6 MB 40.9 MB/s eta 0:00:04\n",
      "     ------------ ------------------------- 63.9/198.6 MB 40.9 MB/s eta 0:00:04\n",
      "     ------------ ------------------------- 65.8/198.6 MB 40.9 MB/s eta 0:00:04\n",
      "     ------------ ------------------------- 67.7/198.6 MB 40.9 MB/s eta 0:00:04\n",
      "     ------------- ------------------------ 69.7/198.6 MB 40.9 MB/s eta 0:00:04\n",
      "     ------------- ------------------------ 71.5/198.6 MB 40.9 MB/s eta 0:00:04\n",
      "     -------------- ----------------------- 73.4/198.6 MB 40.9 MB/s eta 0:00:04\n",
      "     -------------- ----------------------- 75.4/198.6 MB 40.9 MB/s eta 0:00:04\n",
      "     -------------- ----------------------- 77.2/198.6 MB 40.9 MB/s eta 0:00:03\n",
      "     --------------- ---------------------- 78.8/198.6 MB 38.6 MB/s eta 0:00:04\n",
      "     --------------- ---------------------- 79.7/198.6 MB 36.4 MB/s eta 0:00:04\n",
      "     --------------- ---------------------- 80.4/198.6 MB 32.7 MB/s eta 0:00:04\n",
      "     --------------- ---------------------- 82.2/198.6 MB 32.7 MB/s eta 0:00:04\n",
      "     ---------------- --------------------- 84.0/198.6 MB 32.7 MB/s eta 0:00:04\n",
      "     ---------------- --------------------- 86.0/198.6 MB 32.7 MB/s eta 0:00:04\n",
      "     ---------------- --------------------- 87.5/198.6 MB 31.2 MB/s eta 0:00:04\n",
      "     ---------------- --------------------- 88.4/198.6 MB 29.8 MB/s eta 0:00:04\n",
      "     ----------------- -------------------- 90.5/198.6 MB 36.4 MB/s eta 0:00:03\n",
      "     ----------------- -------------------- 92.2/198.6 MB 36.4 MB/s eta 0:00:03\n",
      "     ----------------- -------------------- 93.5/198.6 MB 34.4 MB/s eta 0:00:04\n",
      "     ------------------ ------------------- 94.4/198.6 MB 31.2 MB/s eta 0:00:04\n",
      "     ------------------ ------------------- 96.3/198.6 MB 32.8 MB/s eta 0:00:04\n",
      "     ------------------ ------------------- 97.0/198.6 MB 28.4 MB/s eta 0:00:04\n",
      "     ------------------- ------------------ 99.5/198.6 MB 34.6 MB/s eta 0:00:03\n",
      "     ------------------ ------------------ 101.3/198.6 MB 32.8 MB/s eta 0:00:03\n",
      "     ------------------- ----------------- 103.3/198.6 MB 34.4 MB/s eta 0:00:03\n",
      "     ------------------- ----------------- 105.2/198.6 MB 38.5 MB/s eta 0:00:03\n",
      "     ------------------- ----------------- 107.1/198.6 MB 40.9 MB/s eta 0:00:03\n",
      "     -------------------- ---------------- 108.7/198.6 MB 40.9 MB/s eta 0:00:03\n",
      "     -------------------- ---------------- 110.8/198.6 MB 40.9 MB/s eta 0:00:03\n",
      "     --------------------- --------------- 112.8/198.6 MB 40.9 MB/s eta 0:00:03\n",
      "     --------------------- --------------- 114.6/198.6 MB 38.6 MB/s eta 0:00:03\n",
      "     --------------------- --------------- 116.7/198.6 MB 40.9 MB/s eta 0:00:03\n",
      "     ---------------------- -------------- 118.5/198.6 MB 40.9 MB/s eta 0:00:02\n",
      "     ---------------------- -------------- 120.5/198.6 MB 40.9 MB/s eta 0:00:02\n",
      "     ---------------------- -------------- 122.3/198.6 MB 40.9 MB/s eta 0:00:02\n",
      "     ----------------------- ------------- 124.3/198.6 MB 40.9 MB/s eta 0:00:02\n",
      "     ----------------------- ------------- 126.1/198.6 MB 40.9 MB/s eta 0:00:02\n",
      "     ----------------------- ------------- 127.9/198.6 MB 40.9 MB/s eta 0:00:02\n",
      "     ------------------------ ------------ 130.0/198.6 MB 40.9 MB/s eta 0:00:02\n",
      "     ------------------------ ------------ 132.0/198.6 MB 40.9 MB/s eta 0:00:02\n",
      "     ------------------------ ------------ 133.8/198.6 MB 40.9 MB/s eta 0:00:02\n",
      "     ------------------------- ----------- 135.7/198.6 MB 40.9 MB/s eta 0:00:02\n",
      "     ------------------------- ----------- 137.6/198.6 MB 40.9 MB/s eta 0:00:02\n",
      "     ------------------------- ----------- 139.5/198.6 MB 40.9 MB/s eta 0:00:02\n",
      "     -------------------------- ---------- 141.4/198.6 MB 40.9 MB/s eta 0:00:02\n",
      "     -------------------------- ---------- 143.3/198.6 MB 38.5 MB/s eta 0:00:02\n",
      "     --------------------------- --------- 145.2/198.6 MB 40.9 MB/s eta 0:00:02\n",
      "     --------------------------- --------- 147.0/198.6 MB 40.9 MB/s eta 0:00:02\n",
      "     --------------------------- --------- 149.1/198.6 MB 43.5 MB/s eta 0:00:02\n",
      "     ---------------------------- -------- 151.0/198.6 MB 40.9 MB/s eta 0:00:02\n",
      "     ---------------------------- -------- 152.8/198.6 MB 40.9 MB/s eta 0:00:02\n",
      "     ---------------------------- -------- 154.7/198.6 MB 40.9 MB/s eta 0:00:02\n",
      "     ----------------------------- ------- 156.7/198.6 MB 43.7 MB/s eta 0:00:01\n",
      "     ----------------------------- ------- 158.6/198.6 MB 40.9 MB/s eta 0:00:01\n",
      "     ----------------------------- ------- 160.4/198.6 MB 40.9 MB/s eta 0:00:01\n",
      "     ------------------------------ ------ 162.3/198.6 MB 40.9 MB/s eta 0:00:01\n",
      "     ------------------------------ ------ 164.2/198.6 MB 40.9 MB/s eta 0:00:01\n",
      "     ------------------------------ ------ 166.1/198.6 MB 40.9 MB/s eta 0:00:01\n",
      "     ------------------------------- ----- 168.0/198.6 MB 40.9 MB/s eta 0:00:01\n",
      "     ------------------------------- ----- 169.8/198.6 MB 40.9 MB/s eta 0:00:01\n",
      "     ------------------------------- ----- 171.7/198.6 MB 40.9 MB/s eta 0:00:01\n",
      "     -------------------------------- ---- 173.6/198.6 MB 40.9 MB/s eta 0:00:01\n",
      "     -------------------------------- ---- 175.6/198.6 MB 40.9 MB/s eta 0:00:01\n",
      "     -------------------------------- ---- 176.4/198.6 MB 36.3 MB/s eta 0:00:01\n",
      "     --------------------------------- --- 177.3/198.6 MB 34.4 MB/s eta 0:00:01\n",
      "     --------------------------------- --- 179.0/198.6 MB 32.8 MB/s eta 0:00:01\n",
      "     --------------------------------- --- 181.0/198.6 MB 34.4 MB/s eta 0:00:01\n",
      "     ---------------------------------- -- 182.8/198.6 MB 32.8 MB/s eta 0:00:01\n",
      "     ---------------------------------- -- 184.9/198.6 MB 34.4 MB/s eta 0:00:01\n",
      "     ---------------------------------- -- 186.7/198.6 MB 36.4 MB/s eta 0:00:01\n",
      "     ----------------------------------- - 188.6/198.6 MB 40.9 MB/s eta 0:00:01\n",
      "     ----------------------------------- - 190.5/198.6 MB 40.9 MB/s eta 0:00:01\n",
      "     ----------------------------------- - 192.5/198.6 MB 40.9 MB/s eta 0:00:01\n",
      "     ------------------------------------  194.4/198.6 MB 40.9 MB/s eta 0:00:01\n",
      "     ------------------------------------  195.5/198.6 MB 36.4 MB/s eta 0:00:01\n",
      "     ------------------------------------  197.8/198.6 MB 38.6 MB/s eta 0:00:01\n",
      "     ------------------------------------  198.6/198.6 MB 38.5 MB/s eta 0:00:01\n",
      "     ------------------------------------  198.6/198.6 MB 38.5 MB/s eta 0:00:01\n",
      "     ------------------------------------  198.6/198.6 MB 38.5 MB/s eta 0:00:01\n",
      "     ------------------------------------  198.6/198.6 MB 38.5 MB/s eta 0:00:01\n",
      "     ------------------------------------  198.6/198.6 MB 38.5 MB/s eta 0:00:01\n",
      "     ------------------------------------  198.6/198.6 MB 38.5 MB/s eta 0:00:01\n",
      "     ------------------------------------  198.6/198.6 MB 38.5 MB/s eta 0:00:01\n",
      "     ------------------------------------  198.6/198.6 MB 38.5 MB/s eta 0:00:01\n",
      "     ------------------------------------  198.6/198.6 MB 38.5 MB/s eta 0:00:01\n",
      "     ------------------------------------- 198.6/198.6 MB 12.1 MB/s eta 0:00:00\n",
      "Collecting torchvision\n",
      "  Downloading torchvision-0.17.2-cp310-cp310-win_amd64.whl (1.2 MB)\n",
      "     ---------------------------------------- 0.0/1.2 MB ? eta -:--:--\n",
      "     ---------------------------------------  1.1/1.2 MB 71.0 MB/s eta 0:00:01\n",
      "     ---------------------------------------  1.2/1.2 MB 14.5 MB/s eta 0:00:01\n",
      "     ---------------------------------------- 1.2/1.2 MB 12.3 MB/s eta 0:00:00\n",
      "Collecting torchaudio\n",
      "  Downloading torchaudio-2.2.2-cp310-cp310-win_amd64.whl (2.4 MB)\n",
      "     ---------------------------------------- 0.0/2.4 MB ? eta -:--:--\n",
      "     --------------------------- ------------ 1.6/2.4 MB 52.2 MB/s eta 0:00:01\n",
      "     ---------------------------------------- 2.4/2.4 MB 38.0 MB/s eta 0:00:00\n",
      "Collecting sympy\n",
      "  Downloading sympy-1.12-py3-none-any.whl (5.7 MB)\n",
      "     ---------------------------------------- 0.0/5.7 MB ? eta -:--:--\n",
      "     ------------ --------------------------- 1.8/5.7 MB 57.1 MB/s eta 0:00:01\n",
      "     ------------------------- -------------- 3.7/5.7 MB 47.1 MB/s eta 0:00:01\n",
      "     -------------------------------------- - 5.5/5.7 MB 44.1 MB/s eta 0:00:01\n",
      "     ---------------------------------------  5.7/5.7 MB 45.8 MB/s eta 0:00:01\n",
      "     ---------------------------------------  5.7/5.7 MB 45.8 MB/s eta 0:00:01\n",
      "     ---------------------------------------- 5.7/5.7 MB 21.6 MB/s eta 0:00:00\n",
      "Collecting jinja2\n",
      "  Downloading Jinja2-3.1.3-py3-none-any.whl (133 kB)\n",
      "     ---------------------------------------- 0.0/133.2 kB ? eta -:--:--\n",
      "     ------------------------------------ --- 122.9/133.2 kB ? eta -:--:--\n",
      "     ------------------------------------ --- 122.9/133.2 kB ? eta -:--:--\n",
      "     -------------------------------------- 133.2/133.2 kB 1.1 MB/s eta 0:00:00\n",
      "Collecting networkx\n",
      "  Downloading networkx-3.3-py3-none-any.whl (1.7 MB)\n",
      "     ---------------------------------------- 0.0/1.7 MB ? eta -:--:--\n",
      "     ---------------------------------------  1.7/1.7 MB 54.2 MB/s eta 0:00:01\n",
      "     ---------------------------------------- 1.7/1.7 MB 26.9 MB/s eta 0:00:00\n",
      "Collecting filelock\n",
      "  Downloading filelock-3.13.4-py3-none-any.whl (11 kB)\n",
      "Collecting fsspec\n",
      "  Downloading fsspec-2024.3.1-py3-none-any.whl (171 kB)\n",
      "     ---------------------------------------- 0.0/172.0 kB ? eta -:--:--\n",
      "     ---------------------------------------- 172.0/172.0 kB ? eta 0:00:00\n",
      "Collecting typing-extensions>=4.8.0\n",
      "  Downloading typing_extensions-4.11.0-py3-none-any.whl (34 kB)\n",
      "Collecting pillow!=8.3.*,>=5.3.0\n",
      "  Downloading pillow-10.3.0-cp310-cp310-win_amd64.whl (2.5 MB)\n",
      "     ---------------------------------------- 0.0/2.5 MB ? eta -:--:--\n",
      "     ------------------------------- -------- 2.0/2.5 MB 41.6 MB/s eta 0:00:01\n",
      "     ---------------------------------------- 2.5/2.5 MB 32.3 MB/s eta 0:00:00\n",
      "Collecting numpy\n",
      "  Downloading numpy-1.26.4-cp310-cp310-win_amd64.whl (15.8 MB)\n",
      "     ---------------------------------------- 0.0/15.8 MB ? eta -:--:--\n",
      "     ---- ----------------------------------- 1.7/15.8 MB 54.5 MB/s eta 0:00:01\n",
      "     -------- ------------------------------- 3.6/15.8 MB 45.4 MB/s eta 0:00:01\n",
      "     ------------- -------------------------- 5.4/15.8 MB 43.5 MB/s eta 0:00:01\n",
      "     ------------------ --------------------- 7.4/15.8 MB 42.8 MB/s eta 0:00:01\n",
      "     ----------------------- ---------------- 9.3/15.8 MB 42.5 MB/s eta 0:00:01\n",
      "     --------------------------- ----------- 11.2/15.8 MB 40.9 MB/s eta 0:00:01\n",
      "     -------------------------------- ------ 13.1/15.8 MB 40.9 MB/s eta 0:00:01\n",
      "     ------------------------------------- - 15.0/15.8 MB 40.9 MB/s eta 0:00:01\n",
      "     --------------------------------------  15.8/15.8 MB 40.9 MB/s eta 0:00:01\n",
      "     --------------------------------------- 15.8/15.8 MB 34.4 MB/s eta 0:00:00\n",
      "Collecting MarkupSafe>=2.0\n",
      "  Downloading MarkupSafe-2.1.5-cp310-cp310-win_amd64.whl (17 kB)\n",
      "Collecting mpmath>=0.19\n",
      "  Using cached mpmath-1.3.0-py3-none-any.whl (536 kB)\n",
      "Installing collected packages: mpmath, typing-extensions, sympy, pillow, numpy, networkx, MarkupSafe, fsspec, filelock, jinja2, torch, torchvision, torchaudio\n"
     ]
    },
    {
     "name": "stderr",
     "output_type": "stream",
     "text": [
      "ERROR: Could not install packages due to an OSError: [WinError 32] The process cannot access the file because it is being used by another process: 'C:\\\\Users\\\\chris\\\\AppData\\\\Local\\\\Packages\\\\PythonSoftwareFoundation.Python.3.10_qbz5n2kfra8p0\\\\LocalCache\\\\local-packages\\\\Python310\\\\site-packages\\\\torch\\\\ao\\\\pruning\\\\_experimental\\\\pruner\\\\saliency_pruner.py'\n",
      "Check the permissions.\n",
      "\n",
      "\n",
      "[notice] A new release of pip is available: 23.0.1 -> 24.0\n",
      "[notice] To update, run: C:\\Users\\chris\\AppData\\Local\\Microsoft\\WindowsApps\\PythonSoftwareFoundation.Python.3.10_qbz5n2kfra8p0\\python.exe -m pip install --upgrade pip\n"
     ]
    },
    {
     "name": "stdout",
     "output_type": "stream",
     "text": [
      "Collecting torch\n",
      "  Using cached torch-2.2.2-cp310-cp310-win_amd64.whl (198.6 MB)\n",
      "Requirement already satisfied: typing-extensions>=4.8.0 in c:\\users\\chris\\appdata\\local\\packages\\pythonsoftwarefoundation.python.3.10_qbz5n2kfra8p0\\localcache\\local-packages\\python310\\site-packages (from torch) (4.11.0)\n",
      "Collecting filelock\n",
      "  Using cached filelock-3.13.4-py3-none-any.whl (11 kB)\n",
      "Requirement already satisfied: sympy in c:\\users\\chris\\appdata\\local\\packages\\pythonsoftwarefoundation.python.3.10_qbz5n2kfra8p0\\localcache\\local-packages\\python310\\site-packages (from torch) (1.12)\n",
      "Requirement already satisfied: networkx in c:\\users\\chris\\appdata\\local\\packages\\pythonsoftwarefoundation.python.3.10_qbz5n2kfra8p0\\localcache\\local-packages\\python310\\site-packages (from torch) (3.3)\n",
      "Collecting fsspec\n",
      "  Using cached fsspec-2024.3.1-py3-none-any.whl (171 kB)\n",
      "Collecting jinja2\n",
      "  Using cached Jinja2-3.1.3-py3-none-any.whl (133 kB)\n",
      "Collecting MarkupSafe>=2.0\n",
      "  Using cached MarkupSafe-2.1.5-cp310-cp310-win_amd64.whl (17 kB)\n",
      "Requirement already satisfied: mpmath>=0.19 in c:\\users\\chris\\appdata\\local\\packages\\pythonsoftwarefoundation.python.3.10_qbz5n2kfra8p0\\localcache\\local-packages\\python310\\site-packages (from sympy->torch) (1.3.0)\n",
      "Installing collected packages: MarkupSafe, fsspec, filelock, jinja2, torch\n",
      "Successfully installed MarkupSafe-2.1.5 filelock-3.13.4 fsspec-2024.3.1 jinja2-3.1.3 torch-2.2.2\n"
     ]
    },
    {
     "name": "stderr",
     "output_type": "stream",
     "text": [
      "\n",
      "[notice] A new release of pip is available: 23.0.1 -> 24.0\n",
      "[notice] To update, run: C:\\Users\\chris\\AppData\\Local\\Microsoft\\WindowsApps\\PythonSoftwareFoundation.Python.3.10_qbz5n2kfra8p0\\python.exe -m pip install --upgrade pip\n"
     ]
    }
   ],
   "source": [
    "!pip install torch"
   ]
  },
  {
   "cell_type": "code",
   "execution_count": 9,
   "metadata": {},
   "outputs": [
    {
     "name": "stdout",
     "output_type": "stream",
     "text": [
      "torch.Size([1115394]) torch.int64\n",
      "tensor([18, 47, 56, 57, 58,  1, 15, 47, 58, 47, 64, 43, 52, 10,  0, 14, 43, 44,\n",
      "        53, 56, 43,  1, 61, 43,  1, 54, 56, 53, 41, 43, 43, 42,  1, 39, 52, 63,\n",
      "         1, 44, 59, 56, 58, 46, 43, 56,  6,  1, 46, 43, 39, 56,  1, 51, 43,  1,\n",
      "        57, 54, 43, 39, 49,  8,  0,  0, 13, 50, 50, 10,  0, 31, 54, 43, 39, 49,\n",
      "         6,  1, 57, 54, 43, 39, 49,  8,  0,  0, 18, 47, 56, 57, 58,  1, 15, 47,\n",
      "        58, 47, 64, 43, 52, 10,  0, 37, 53, 59,  1, 39, 56, 43,  1, 39, 50, 50,\n",
      "         1, 56, 43, 57, 53, 50, 60, 43, 42,  1, 56, 39, 58, 46, 43, 56,  1, 58,\n",
      "        53,  1, 42, 47, 43,  1, 58, 46, 39, 52,  1, 58, 53,  1, 44, 39, 51, 47,\n",
      "        57, 46, 12,  0,  0, 13, 50, 50, 10,  0, 30, 43, 57, 53, 50, 60, 43, 42,\n",
      "         8,  1, 56, 43, 57, 53, 50, 60, 43, 42,  8,  0,  0, 18, 47, 56, 57, 58,\n",
      "         1, 15, 47, 58, 47, 64, 43, 52, 10,  0, 18, 47, 56, 57, 58,  6,  1, 63,\n",
      "        53, 59,  1, 49, 52, 53, 61,  1, 15, 39, 47, 59, 57,  1, 25, 39, 56, 41,\n",
      "        47, 59, 57,  1, 47, 57,  1, 41, 46, 47, 43, 44,  1, 43, 52, 43, 51, 63,\n",
      "         1, 58, 53,  1, 58, 46, 43,  1, 54, 43, 53, 54, 50, 43,  8,  0,  0, 13,\n",
      "        50, 50, 10,  0, 35, 43,  1, 49, 52, 53, 61,  5, 58,  6,  1, 61, 43,  1,\n",
      "        49, 52, 53, 61,  5, 58,  8,  0,  0, 18, 47, 56, 57, 58,  1, 15, 47, 58,\n",
      "        47, 64, 43, 52, 10,  0, 24, 43, 58,  1, 59, 57,  1, 49, 47, 50, 50,  1,\n",
      "        46, 47, 51,  6,  1, 39, 52, 42,  1, 61, 43,  5, 50, 50,  1, 46, 39, 60,\n",
      "        43,  1, 41, 53, 56, 52,  1, 39, 58,  1, 53, 59, 56,  1, 53, 61, 52,  1,\n",
      "        54, 56, 47, 41, 43,  8,  0, 21, 57,  5, 58,  1, 39,  1, 60, 43, 56, 42,\n",
      "        47, 41, 58, 12,  0,  0, 13, 50, 50, 10,  0, 26, 53,  1, 51, 53, 56, 43,\n",
      "         1, 58, 39, 50, 49, 47, 52, 45,  1, 53, 52,  5, 58, 11,  1, 50, 43, 58,\n",
      "         1, 47, 58,  1, 40, 43,  1, 42, 53, 52, 43, 10,  1, 39, 61, 39, 63,  6,\n",
      "         1, 39, 61, 39, 63,  2,  0,  0, 31, 43, 41, 53, 52, 42,  1, 15, 47, 58,\n",
      "        47, 64, 43, 52, 10,  0, 27, 52, 43,  1, 61, 53, 56, 42,  6,  1, 45, 53,\n",
      "        53, 42,  1, 41, 47, 58, 47, 64, 43, 52, 57,  8,  0,  0, 18, 47, 56, 57,\n",
      "        58,  1, 15, 47, 58, 47, 64, 43, 52, 10,  0, 35, 43,  1, 39, 56, 43,  1,\n",
      "        39, 41, 41, 53, 59, 52, 58, 43, 42,  1, 54, 53, 53, 56,  1, 41, 47, 58,\n",
      "        47, 64, 43, 52, 57,  6,  1, 58, 46, 43,  1, 54, 39, 58, 56, 47, 41, 47,\n",
      "        39, 52, 57,  1, 45, 53, 53, 42,  8,  0, 35, 46, 39, 58,  1, 39, 59, 58,\n",
      "        46, 53, 56, 47, 58, 63,  1, 57, 59, 56, 44, 43, 47, 58, 57,  1, 53, 52,\n",
      "         1, 61, 53, 59, 50, 42,  1, 56, 43, 50, 47, 43, 60, 43,  1, 59, 57, 10,\n",
      "         1, 47, 44,  1, 58, 46, 43, 63,  0, 61, 53, 59, 50, 42,  1, 63, 47, 43,\n",
      "        50, 42,  1, 59, 57,  1, 40, 59, 58,  1, 58, 46, 43,  1, 57, 59, 54, 43,\n",
      "        56, 44, 50, 59, 47, 58, 63,  6,  1, 61, 46, 47, 50, 43,  1, 47, 58,  1,\n",
      "        61, 43, 56, 43,  0, 61, 46, 53, 50, 43, 57, 53, 51, 43,  6,  1, 61, 43,\n",
      "         1, 51, 47, 45, 46, 58,  1, 45, 59, 43, 57, 57,  1, 58, 46, 43, 63,  1,\n",
      "        56, 43, 50, 47, 43, 60, 43, 42,  1, 59, 57,  1, 46, 59, 51, 39, 52, 43,\n",
      "        50, 63, 11,  0, 40, 59, 58,  1, 58, 46, 43, 63,  1, 58, 46, 47, 52, 49,\n",
      "         1, 61, 43,  1, 39, 56, 43,  1, 58, 53, 53,  1, 42, 43, 39, 56, 10,  1,\n",
      "        58, 46, 43,  1, 50, 43, 39, 52, 52, 43, 57, 57,  1, 58, 46, 39, 58,  0,\n",
      "        39, 44, 44, 50, 47, 41, 58, 57,  1, 59, 57,  6,  1, 58, 46, 43,  1, 53,\n",
      "        40, 48, 43, 41, 58,  1, 53, 44,  1, 53, 59, 56,  1, 51, 47, 57, 43, 56,\n",
      "        63,  6,  1, 47, 57,  1, 39, 57,  1, 39, 52,  0, 47, 52, 60, 43, 52, 58,\n",
      "        53, 56, 63,  1, 58, 53,  1, 54, 39, 56, 58, 47, 41, 59, 50, 39, 56, 47,\n",
      "        57, 43,  1, 58, 46, 43, 47, 56,  1, 39, 40, 59, 52, 42, 39, 52, 41, 43,\n",
      "        11,  1, 53, 59, 56,  0, 57, 59, 44, 44, 43, 56, 39, 52, 41, 43,  1, 47,\n",
      "        57,  1, 39,  1, 45, 39, 47, 52,  1, 58, 53,  1, 58, 46, 43, 51,  1, 24,\n",
      "        43, 58,  1, 59, 57,  1, 56, 43, 60, 43, 52, 45, 43,  1, 58, 46, 47, 57,\n",
      "         1, 61, 47, 58, 46,  0, 53, 59, 56,  1, 54, 47, 49, 43, 57,  6,  1, 43,\n",
      "        56, 43,  1, 61, 43,  1, 40, 43, 41, 53, 51, 43,  1, 56, 39, 49, 43, 57,\n",
      "        10,  1, 44, 53, 56,  1, 58, 46, 43,  1, 45, 53, 42, 57,  1, 49, 52, 53,\n",
      "        61,  1, 21,  0, 57, 54, 43, 39, 49,  1, 58, 46, 47, 57,  1, 47, 52,  1,\n",
      "        46, 59, 52, 45, 43, 56,  1, 44, 53, 56,  1, 40, 56, 43, 39, 42,  6,  1,\n",
      "        52, 53, 58,  1, 47, 52,  1, 58, 46, 47, 56, 57, 58,  1, 44, 53, 56,  1,\n",
      "        56, 43, 60, 43, 52, 45, 43,  8,  0,  0])\n"
     ]
    }
   ],
   "source": [
    "import torch\n",
    "data = torch.tensor(encode(text), dtype=torch.long)\n",
    "print(data.shape, data.dtype)\n",
    "print(data[:1000])"
   ]
  },
  {
   "cell_type": "code",
   "execution_count": 10,
   "metadata": {},
   "outputs": [],
   "source": [
    "# Train test split\n",
    "n = int(0.9 * len(data))\n",
    "train_data = data[:n]\n",
    "val_data = data[:n]"
   ]
  },
  {
   "cell_type": "code",
   "execution_count": 12,
   "metadata": {},
   "outputs": [
    {
     "name": "stdout",
     "output_type": "stream",
     "text": [
      "inputs:\n",
      "torch.Size([4, 8])\n",
      "tensor([[24, 43, 58,  5, 57,  1, 46, 43],\n",
      "        [44, 53, 56,  1, 58, 46, 39, 58],\n",
      "        [52, 58,  1, 58, 46, 39, 58,  1],\n",
      "        [25, 17, 27, 10,  0, 21,  1, 54]])\n",
      "targets:\n",
      "torch.Size([4, 8])\n",
      "tensor([[43, 58,  5, 57,  1, 46, 43, 39],\n",
      "        [53, 56,  1, 58, 46, 39, 58,  1],\n",
      "        [58,  1, 58, 46, 39, 58,  1, 46],\n",
      "        [17, 27, 10,  0, 21,  1, 54, 39]])\n"
     ]
    }
   ],
   "source": [
    "torch.manual_seed(1337)\n",
    "batch_size = 4 # number of independent sequences processed in parallel\n",
    "block_size = 8 # max context length for predictions\n",
    "\n",
    "# generate a small batch of data with inputs x and targets y\n",
    "def get_batch(split):\n",
    "    data = train_data if split == 'train' else val_data\n",
    "    ix = torch.randint(len(data) - block_size, (batch_size,))\n",
    "    x = torch.stack([data[i:i+block_size] for i in ix])\n",
    "    y = torch.stack([data[i+1:i+block_size+1] for i in ix])\n",
    "    return x, y\n",
    "\n",
    "\n",
    "xb, yb = get_batch('train')\n",
    "\n",
    "print('inputs:')\n",
    "print(xb.shape)\n",
    "print(xb)\n",
    "print('targets:')\n",
    "print(yb.shape)\n",
    "print(yb)"
   ]
  },
  {
   "cell_type": "code",
   "execution_count": 16,
   "metadata": {},
   "outputs": [
    {
     "name": "stdout",
     "output_type": "stream",
     "text": [
      "torch.Size([32, 65])\n",
      "tensor(4.5262, grad_fn=<NllLossBackward0>)\n",
      "\n",
      "'JgC.JZWqUkpdtkSpmzjM-,RqzgaN?vC:hgjnAnBZDga-APqGUH!WdCbIb;$DefOYbEvcaKGMmnO'q$KdS-'ZH\n",
      ".YSqr'X!Q! d;\n"
     ]
    }
   ],
   "source": [
    "import torch.nn as nn \n",
    "from torch.nn import functional as F\n",
    "\n",
    "class BigramLanguageModel(nn.Module):\n",
    "    def __init__(self, vocab_size):\n",
    "        super().__init__()\n",
    "        self.token_embedding_table = nn.Embedding(vocab_size, vocab_size)\n",
    "        \n",
    "    def forward(self, idx, targets=None):\n",
    "        \n",
    "        # idx and targets are both (B,T) tensor of integers\n",
    "        logits = self.token_embedding_table(idx) # (Batch, Time, Channel)\n",
    "        \n",
    "        if targets == None:\n",
    "            loss = None\n",
    "        else:\n",
    "            # Reshape\n",
    "            B, T, C = logits.shape\n",
    "            logits = logits.view(B*T, C)\n",
    "            \n",
    "            targets = targets.view(B*T)\n",
    "            \n",
    "            loss = F.cross_entropy(logits, targets)\n",
    "        \n",
    "        return logits, loss\n",
    "    \n",
    "    def generate(self, idx, max_new_tokens):\n",
    "        for _ in range(max_new_tokens):\n",
    "            logits, loss = self(idx)\n",
    "            \n",
    "            logits = logits[:, -1, :] # becomes (B, C)\n",
    "            \n",
    "            probs = F.softmax(logits, dim=-1)\n",
    "            \n",
    "            # sample from distribution\n",
    "            idx_next = torch.multinomial(probs, num_samples=1) # (B, 1)\n",
    "            \n",
    "            # append sampled index to the running sequence\n",
    "            idx = torch.cat((idx, idx_next), dim=1) # (B, T+1)\n",
    "            \n",
    "        return idx\n",
    "    \n",
    "m = BigramLanguageModel(vocab_size)\n",
    "out, loss = m(xb, yb)\n",
    "print(out.shape)\n",
    "print(loss)\n",
    "\n",
    "idx = torch.zeros((1, 1), dtype=torch.long)\n",
    "\n",
    "print(decode(m.generate(idx, max_new_tokens=100)[0].tolist()))"
   ]
  },
  {
   "cell_type": "code",
   "execution_count": 17,
   "metadata": {},
   "outputs": [],
   "source": [
    "optimizer = torch.optim.Adam(m.parameters(), lr=1e-3)"
   ]
  },
  {
   "cell_type": "code",
   "execution_count": 21,
   "metadata": {},
   "outputs": [
    {
     "name": "stdout",
     "output_type": "stream",
     "text": [
      "2.5347774028778076\n"
     ]
    }
   ],
   "source": [
    "batch_size = 32\n",
    "for steps in range(10000):\n",
    "    xb, yb = get_batch('train')\n",
    "    logits, loss = m(xb, yb)\n",
    "    optimizer.zero_grad(set_to_none=True)\n",
    "    loss.backward()\n",
    "    optimizer.step()\n",
    "    \n",
    "    \n",
    "print(loss.item())"
   ]
  },
  {
   "cell_type": "code",
   "execution_count": 24,
   "metadata": {},
   "outputs": [
    {
     "name": "stdout",
     "output_type": "stream",
     "text": [
      "\n",
      "\n",
      "DUNju oveierk,\n",
      "The s; witwhealengr ho ry\n",
      "The e t\n",
      "P re rsts wa lk l, d bl, cot thengl attizXNGBENTorooofusis stl a ant! brd py wnd:\n",
      "\n",
      "Whe sen aveio:\n",
      "DUShipizand, s dr wisow ghisepougldind\n",
      "Fintu ctalad ppaild ile a a-\n",
      "AGo ly me outermy:\n",
      "O, itllped wir.\n",
      "Bupooun t f enonshal icerdiggay harenwo! xcr's.\n",
      "\n",
      "Tor f w IUNESTonured f RDelveeredis thakis thallditthave inde'd Hait whe d m!\n",
      "NCHAPres. t beredes bju dgrst h ters, nshow hed hicorine sitheean nes lees PRDulefre man we, n the IOMNalflivammpavere cen\n"
     ]
    }
   ],
   "source": [
    "print(decode(m.generate(idx = torch.zeros((1, 1), dtype=torch.long), max_new_tokens=500)[0].tolist()))"
   ]
  }
 ],
 "metadata": {
  "kernelspec": {
   "display_name": "Python 3",
   "language": "python",
   "name": "python3"
  },
  "language_info": {
   "codemirror_mode": {
    "name": "ipython",
    "version": 3
   },
   "file_extension": ".py",
   "mimetype": "text/x-python",
   "name": "python",
   "nbconvert_exporter": "python",
   "pygments_lexer": "ipython3",
   "version": "3.10.11"
  }
 },
 "nbformat": 4,
 "nbformat_minor": 2
}
